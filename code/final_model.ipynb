{
 "cells": [
  {
   "cell_type": "markdown",
   "metadata": {
    "colab_type": "text",
    "id": "B4qVRxFZ7kFz"
   },
   "source": [
    "# Genpact Machine Learning Hackathon\n",
    "\n",
    "<img src='../images/problem_statement.png'>\n",
    "<img src='../images/data_dict.png'>"
   ]
  },
  {
   "cell_type": "code",
   "execution_count": 0,
   "metadata": {
    "colab": {},
    "colab_type": "code",
    "id": "E1BgK4Nu7kF7"
   },
   "outputs": [],
   "source": [
    "import pandas as pd\n",
    "import numpy as np\n",
    "import matplotlib.pyplot as plt\n",
    "%matplotlib inline\n",
    "import seaborn as sns"
   ]
  },
  {
   "cell_type": "code",
   "execution_count": 0,
   "metadata": {
    "colab": {},
    "colab_type": "code",
    "id": "QLVdmo447kGI"
   },
   "outputs": [],
   "source": [
    "import gc\n",
    "import catboost as cb\n",
    "from sklearn.metrics import mean_squared_log_error, mean_squared_error\n",
    "from sklearn.model_selection import train_test_split, KFold"
   ]
  },
  {
   "cell_type": "code",
   "execution_count": 0,
   "metadata": {
    "colab": {},
    "colab_type": "code",
    "id": "bFbTm3nZ7kGQ"
   },
   "outputs": [],
   "source": [
    "#pd.set_option('display.max_rows', None)\n",
    "def show_all(df, nrow, ncol):\n",
    "    with pd.option_context('display.max_rows', nrow, 'display.max_columns', ncol):\n",
    "        display(df)"
   ]
  },
  {
   "cell_type": "code",
   "execution_count": 0,
   "metadata": {
    "colab": {},
    "colab_type": "code",
    "id": "3buWODjZ7kGY"
   },
   "outputs": [],
   "source": [
    "FILES_PATH = '../input/'\n",
    "SUB_PATH = '../submissions/'"
   ]
  },
  {
   "cell_type": "code",
   "execution_count": 0,
   "metadata": {
    "colab": {},
    "colab_type": "code",
    "id": "8S6Q_FwB7kGg"
   },
   "outputs": [],
   "source": [
    "fci_df = pd.read_csv(f\"{FILES_PATH}/fulfilment_center_info.csv\")\n",
    "mi_df = pd.read_csv(f\"{FILES_PATH}/meal_info.csv\")\n",
    "train_df = pd.read_csv(f\"{FILES_PATH}/train.csv\")\n",
    "test_df = pd.read_csv(f\"{FILES_PATH}/test.csv\")\n",
    "sub_df = pd.read_csv(f\"{FILES_PATH}/sample_submission.csv\")"
   ]
  },
  {
   "cell_type": "code",
   "execution_count": 0,
   "metadata": {
    "colab": {},
    "colab_type": "code",
    "id": "GAJESuRz7kGp",
    "outputId": "ed61d275-72b1-46da-dde2-13e80a764902"
   },
   "outputs": [
    {
     "data": {
      "text/html": [
       "<div>\n",
       "<style scoped>\n",
       "    .dataframe tbody tr th:only-of-type {\n",
       "        vertical-align: middle;\n",
       "    }\n",
       "\n",
       "    .dataframe tbody tr th {\n",
       "        vertical-align: top;\n",
       "    }\n",
       "\n",
       "    .dataframe thead th {\n",
       "        text-align: right;\n",
       "    }\n",
       "</style>\n",
       "<table border=\"1\" class=\"dataframe\">\n",
       "  <thead>\n",
       "    <tr style=\"text-align: right;\">\n",
       "      <th></th>\n",
       "      <th>center_id</th>\n",
       "      <th>city_code</th>\n",
       "      <th>region_code</th>\n",
       "      <th>center_type</th>\n",
       "      <th>op_area</th>\n",
       "    </tr>\n",
       "  </thead>\n",
       "  <tbody>\n",
       "    <tr>\n",
       "      <th>0</th>\n",
       "      <td>11</td>\n",
       "      <td>679</td>\n",
       "      <td>56</td>\n",
       "      <td>TYPE_A</td>\n",
       "      <td>3.7</td>\n",
       "    </tr>\n",
       "    <tr>\n",
       "      <th>1</th>\n",
       "      <td>13</td>\n",
       "      <td>590</td>\n",
       "      <td>56</td>\n",
       "      <td>TYPE_B</td>\n",
       "      <td>6.7</td>\n",
       "    </tr>\n",
       "    <tr>\n",
       "      <th>2</th>\n",
       "      <td>124</td>\n",
       "      <td>590</td>\n",
       "      <td>56</td>\n",
       "      <td>TYPE_C</td>\n",
       "      <td>4.0</td>\n",
       "    </tr>\n",
       "    <tr>\n",
       "      <th>3</th>\n",
       "      <td>66</td>\n",
       "      <td>648</td>\n",
       "      <td>34</td>\n",
       "      <td>TYPE_A</td>\n",
       "      <td>4.1</td>\n",
       "    </tr>\n",
       "    <tr>\n",
       "      <th>4</th>\n",
       "      <td>94</td>\n",
       "      <td>632</td>\n",
       "      <td>34</td>\n",
       "      <td>TYPE_C</td>\n",
       "      <td>3.6</td>\n",
       "    </tr>\n",
       "  </tbody>\n",
       "</table>\n",
       "</div>"
      ],
      "text/plain": [
       "   center_id  city_code  region_code center_type  op_area\n",
       "0         11        679           56      TYPE_A      3.7\n",
       "1         13        590           56      TYPE_B      6.7\n",
       "2        124        590           56      TYPE_C      4.0\n",
       "3         66        648           34      TYPE_A      4.1\n",
       "4         94        632           34      TYPE_C      3.6"
      ]
     },
     "execution_count": 4,
     "metadata": {
      "tags": []
     },
     "output_type": "execute_result"
    }
   ],
   "source": [
    "# head of fulfilment_center_info file\n",
    "fci_df.head()"
   ]
  },
  {
   "cell_type": "code",
   "execution_count": 0,
   "metadata": {
    "colab": {},
    "colab_type": "code",
    "id": "AGSSD3rj7kG8",
    "outputId": "617086b5-3a75-453b-b971-16407bf708c1"
   },
   "outputs": [
    {
     "name": "stdout",
     "output_type": "stream",
     "text": [
      "Shape of fulfilment_center_info : (77, 5)\n"
     ]
    }
   ],
   "source": [
    "print(\"Shape of fulfilment_center_info :\", fci_df.shape)"
   ]
  },
  {
   "cell_type": "code",
   "execution_count": 0,
   "metadata": {
    "colab": {},
    "colab_type": "code",
    "id": "z93vZnlc7kHJ",
    "outputId": "24b8a130-d1d8-4bae-904f-761696f77b69"
   },
   "outputs": [
    {
     "data": {
      "text/plain": [
       "center_id      0\n",
       "city_code      0\n",
       "region_code    0\n",
       "center_type    0\n",
       "op_area        0\n",
       "dtype: int64"
      ]
     },
     "execution_count": 6,
     "metadata": {
      "tags": []
     },
     "output_type": "execute_result"
    }
   ],
   "source": [
    "# NaN values in fulfilment_center_info\n",
    "fci_df.isnull().sum()"
   ]
  },
  {
   "cell_type": "code",
   "execution_count": 0,
   "metadata": {
    "colab": {},
    "colab_type": "code",
    "id": "Tn8loJc47kHV",
    "outputId": "ce565625-4173-49b2-ed69-1889e7d88c99"
   },
   "outputs": [
    {
     "data": {
      "text/html": [
       "<div>\n",
       "<style scoped>\n",
       "    .dataframe tbody tr th:only-of-type {\n",
       "        vertical-align: middle;\n",
       "    }\n",
       "\n",
       "    .dataframe tbody tr th {\n",
       "        vertical-align: top;\n",
       "    }\n",
       "\n",
       "    .dataframe thead th {\n",
       "        text-align: right;\n",
       "    }\n",
       "</style>\n",
       "<table border=\"1\" class=\"dataframe\">\n",
       "  <thead>\n",
       "    <tr style=\"text-align: right;\">\n",
       "      <th></th>\n",
       "      <th>meal_id</th>\n",
       "      <th>category</th>\n",
       "      <th>cuisine</th>\n",
       "    </tr>\n",
       "  </thead>\n",
       "  <tbody>\n",
       "    <tr>\n",
       "      <th>0</th>\n",
       "      <td>1885</td>\n",
       "      <td>Beverages</td>\n",
       "      <td>Thai</td>\n",
       "    </tr>\n",
       "    <tr>\n",
       "      <th>1</th>\n",
       "      <td>1993</td>\n",
       "      <td>Beverages</td>\n",
       "      <td>Thai</td>\n",
       "    </tr>\n",
       "    <tr>\n",
       "      <th>2</th>\n",
       "      <td>2539</td>\n",
       "      <td>Beverages</td>\n",
       "      <td>Thai</td>\n",
       "    </tr>\n",
       "    <tr>\n",
       "      <th>3</th>\n",
       "      <td>1248</td>\n",
       "      <td>Beverages</td>\n",
       "      <td>Indian</td>\n",
       "    </tr>\n",
       "    <tr>\n",
       "      <th>4</th>\n",
       "      <td>2631</td>\n",
       "      <td>Beverages</td>\n",
       "      <td>Indian</td>\n",
       "    </tr>\n",
       "  </tbody>\n",
       "</table>\n",
       "</div>"
      ],
      "text/plain": [
       "   meal_id   category cuisine\n",
       "0     1885  Beverages    Thai\n",
       "1     1993  Beverages    Thai\n",
       "2     2539  Beverages    Thai\n",
       "3     1248  Beverages  Indian\n",
       "4     2631  Beverages  Indian"
      ]
     },
     "execution_count": 7,
     "metadata": {
      "tags": []
     },
     "output_type": "execute_result"
    }
   ],
   "source": [
    "# head of meal_info file\n",
    "mi_df.head()"
   ]
  },
  {
   "cell_type": "code",
   "execution_count": 0,
   "metadata": {
    "colab": {},
    "colab_type": "code",
    "id": "h8urChaW7kHj",
    "outputId": "8d3f3771-c9fb-43e4-ce31-d233db83ccb4"
   },
   "outputs": [
    {
     "name": "stdout",
     "output_type": "stream",
     "text": [
      "Shape of meal_info:  (51, 3)\n"
     ]
    }
   ],
   "source": [
    "print(\"Shape of meal_info: \", mi_df.shape)"
   ]
  },
  {
   "cell_type": "code",
   "execution_count": 0,
   "metadata": {
    "colab": {},
    "colab_type": "code",
    "id": "S107YGrR7kHw",
    "outputId": "f19c5d9b-7492-4d7f-c440-5f7a21d514e9"
   },
   "outputs": [
    {
     "data": {
      "text/plain": [
       "meal_id     0\n",
       "category    0\n",
       "cuisine     0\n",
       "dtype: int64"
      ]
     },
     "execution_count": 9,
     "metadata": {
      "tags": []
     },
     "output_type": "execute_result"
    }
   ],
   "source": [
    "# NaN values in meal_info\n",
    "mi_df.isnull().sum()"
   ]
  },
  {
   "cell_type": "code",
   "execution_count": 0,
   "metadata": {
    "colab": {},
    "colab_type": "code",
    "id": "v5vbDm0j7kIA",
    "outputId": "3d0748c9-8add-44fa-b213-bd329682d4e6"
   },
   "outputs": [
    {
     "data": {
      "text/html": [
       "<div>\n",
       "<style scoped>\n",
       "    .dataframe tbody tr th:only-of-type {\n",
       "        vertical-align: middle;\n",
       "    }\n",
       "\n",
       "    .dataframe tbody tr th {\n",
       "        vertical-align: top;\n",
       "    }\n",
       "\n",
       "    .dataframe thead th {\n",
       "        text-align: right;\n",
       "    }\n",
       "</style>\n",
       "<table border=\"1\" class=\"dataframe\">\n",
       "  <thead>\n",
       "    <tr style=\"text-align: right;\">\n",
       "      <th></th>\n",
       "      <th>id</th>\n",
       "      <th>week</th>\n",
       "      <th>center_id</th>\n",
       "      <th>meal_id</th>\n",
       "      <th>checkout_price</th>\n",
       "      <th>base_price</th>\n",
       "      <th>emailer_for_promotion</th>\n",
       "      <th>homepage_featured</th>\n",
       "      <th>num_orders</th>\n",
       "    </tr>\n",
       "  </thead>\n",
       "  <tbody>\n",
       "    <tr>\n",
       "      <th>0</th>\n",
       "      <td>1379560</td>\n",
       "      <td>1</td>\n",
       "      <td>55</td>\n",
       "      <td>1885</td>\n",
       "      <td>136.83</td>\n",
       "      <td>152.29</td>\n",
       "      <td>0</td>\n",
       "      <td>0</td>\n",
       "      <td>177</td>\n",
       "    </tr>\n",
       "    <tr>\n",
       "      <th>1</th>\n",
       "      <td>1466964</td>\n",
       "      <td>1</td>\n",
       "      <td>55</td>\n",
       "      <td>1993</td>\n",
       "      <td>136.83</td>\n",
       "      <td>135.83</td>\n",
       "      <td>0</td>\n",
       "      <td>0</td>\n",
       "      <td>270</td>\n",
       "    </tr>\n",
       "    <tr>\n",
       "      <th>2</th>\n",
       "      <td>1346989</td>\n",
       "      <td>1</td>\n",
       "      <td>55</td>\n",
       "      <td>2539</td>\n",
       "      <td>134.86</td>\n",
       "      <td>135.86</td>\n",
       "      <td>0</td>\n",
       "      <td>0</td>\n",
       "      <td>189</td>\n",
       "    </tr>\n",
       "    <tr>\n",
       "      <th>3</th>\n",
       "      <td>1338232</td>\n",
       "      <td>1</td>\n",
       "      <td>55</td>\n",
       "      <td>2139</td>\n",
       "      <td>339.50</td>\n",
       "      <td>437.53</td>\n",
       "      <td>0</td>\n",
       "      <td>0</td>\n",
       "      <td>54</td>\n",
       "    </tr>\n",
       "    <tr>\n",
       "      <th>4</th>\n",
       "      <td>1448490</td>\n",
       "      <td>1</td>\n",
       "      <td>55</td>\n",
       "      <td>2631</td>\n",
       "      <td>243.50</td>\n",
       "      <td>242.50</td>\n",
       "      <td>0</td>\n",
       "      <td>0</td>\n",
       "      <td>40</td>\n",
       "    </tr>\n",
       "  </tbody>\n",
       "</table>\n",
       "</div>"
      ],
      "text/plain": [
       "        id  week  center_id  meal_id  checkout_price  base_price  \\\n",
       "0  1379560     1         55     1885          136.83      152.29   \n",
       "1  1466964     1         55     1993          136.83      135.83   \n",
       "2  1346989     1         55     2539          134.86      135.86   \n",
       "3  1338232     1         55     2139          339.50      437.53   \n",
       "4  1448490     1         55     2631          243.50      242.50   \n",
       "\n",
       "   emailer_for_promotion  homepage_featured  num_orders  \n",
       "0                      0                  0         177  \n",
       "1                      0                  0         270  \n",
       "2                      0                  0         189  \n",
       "3                      0                  0          54  \n",
       "4                      0                  0          40  "
      ]
     },
     "execution_count": 10,
     "metadata": {
      "tags": []
     },
     "output_type": "execute_result"
    }
   ],
   "source": [
    "# Head of Train file (historical demand data)\n",
    "train_df.head()"
   ]
  },
  {
   "cell_type": "code",
   "execution_count": 0,
   "metadata": {
    "colab": {},
    "colab_type": "code",
    "id": "eYHJheYS7kIL",
    "outputId": "a2caa58f-fe55-44f7-e8b2-2dd0fed9786d"
   },
   "outputs": [
    {
     "name": "stdout",
     "output_type": "stream",
     "text": [
      "Shape of train:  (456548, 9)\n"
     ]
    }
   ],
   "source": [
    "print(\"Shape of train: \", train_df.shape)"
   ]
  },
  {
   "cell_type": "code",
   "execution_count": 0,
   "metadata": {
    "colab": {},
    "colab_type": "code",
    "id": "narJsfaI7kIX",
    "outputId": "27ec5754-1755-4231-d2d8-4f438b4dce6d"
   },
   "outputs": [
    {
     "data": {
      "text/plain": [
       "id                       0\n",
       "week                     0\n",
       "center_id                0\n",
       "meal_id                  0\n",
       "checkout_price           0\n",
       "base_price               0\n",
       "emailer_for_promotion    0\n",
       "homepage_featured        0\n",
       "num_orders               0\n",
       "dtype: int64"
      ]
     },
     "execution_count": 12,
     "metadata": {
      "tags": []
     },
     "output_type": "execute_result"
    }
   ],
   "source": [
    "# NaN values in train data\n",
    "train_df.isnull().sum()"
   ]
  },
  {
   "cell_type": "code",
   "execution_count": 0,
   "metadata": {
    "colab": {},
    "colab_type": "code",
    "id": "juoAUnhZ7kIi",
    "outputId": "081c7038-7df8-43f6-fb11-d86f06951892"
   },
   "outputs": [
    {
     "data": {
      "text/html": [
       "<div>\n",
       "<style scoped>\n",
       "    .dataframe tbody tr th:only-of-type {\n",
       "        vertical-align: middle;\n",
       "    }\n",
       "\n",
       "    .dataframe tbody tr th {\n",
       "        vertical-align: top;\n",
       "    }\n",
       "\n",
       "    .dataframe thead th {\n",
       "        text-align: right;\n",
       "    }\n",
       "</style>\n",
       "<table border=\"1\" class=\"dataframe\">\n",
       "  <thead>\n",
       "    <tr style=\"text-align: right;\">\n",
       "      <th></th>\n",
       "      <th>id</th>\n",
       "      <th>week</th>\n",
       "      <th>center_id</th>\n",
       "      <th>meal_id</th>\n",
       "      <th>checkout_price</th>\n",
       "      <th>base_price</th>\n",
       "      <th>emailer_for_promotion</th>\n",
       "      <th>homepage_featured</th>\n",
       "    </tr>\n",
       "  </thead>\n",
       "  <tbody>\n",
       "    <tr>\n",
       "      <th>0</th>\n",
       "      <td>1028232</td>\n",
       "      <td>146</td>\n",
       "      <td>55</td>\n",
       "      <td>1885</td>\n",
       "      <td>158.11</td>\n",
       "      <td>159.11</td>\n",
       "      <td>0</td>\n",
       "      <td>0</td>\n",
       "    </tr>\n",
       "    <tr>\n",
       "      <th>1</th>\n",
       "      <td>1127204</td>\n",
       "      <td>146</td>\n",
       "      <td>55</td>\n",
       "      <td>1993</td>\n",
       "      <td>160.11</td>\n",
       "      <td>159.11</td>\n",
       "      <td>0</td>\n",
       "      <td>0</td>\n",
       "    </tr>\n",
       "    <tr>\n",
       "      <th>2</th>\n",
       "      <td>1212707</td>\n",
       "      <td>146</td>\n",
       "      <td>55</td>\n",
       "      <td>2539</td>\n",
       "      <td>157.14</td>\n",
       "      <td>159.14</td>\n",
       "      <td>0</td>\n",
       "      <td>0</td>\n",
       "    </tr>\n",
       "    <tr>\n",
       "      <th>3</th>\n",
       "      <td>1082698</td>\n",
       "      <td>146</td>\n",
       "      <td>55</td>\n",
       "      <td>2631</td>\n",
       "      <td>162.02</td>\n",
       "      <td>162.02</td>\n",
       "      <td>0</td>\n",
       "      <td>0</td>\n",
       "    </tr>\n",
       "    <tr>\n",
       "      <th>4</th>\n",
       "      <td>1400926</td>\n",
       "      <td>146</td>\n",
       "      <td>55</td>\n",
       "      <td>1248</td>\n",
       "      <td>163.93</td>\n",
       "      <td>163.93</td>\n",
       "      <td>0</td>\n",
       "      <td>0</td>\n",
       "    </tr>\n",
       "  </tbody>\n",
       "</table>\n",
       "</div>"
      ],
      "text/plain": [
       "        id  week  center_id  meal_id  checkout_price  base_price  \\\n",
       "0  1028232   146         55     1885          158.11      159.11   \n",
       "1  1127204   146         55     1993          160.11      159.11   \n",
       "2  1212707   146         55     2539          157.14      159.14   \n",
       "3  1082698   146         55     2631          162.02      162.02   \n",
       "4  1400926   146         55     1248          163.93      163.93   \n",
       "\n",
       "   emailer_for_promotion  homepage_featured  \n",
       "0                      0                  0  \n",
       "1                      0                  0  \n",
       "2                      0                  0  \n",
       "3                      0                  0  \n",
       "4                      0                  0  "
      ]
     },
     "execution_count": 13,
     "metadata": {
      "tags": []
     },
     "output_type": "execute_result"
    }
   ],
   "source": [
    "# Head of Test data\n",
    "test_df.head()"
   ]
  },
  {
   "cell_type": "code",
   "execution_count": 0,
   "metadata": {
    "colab": {},
    "colab_type": "code",
    "id": "g0lgl1RK7kIp",
    "outputId": "63d1dcf1-167f-4e1c-d7c8-1f186af60bd2"
   },
   "outputs": [
    {
     "name": "stdout",
     "output_type": "stream",
     "text": [
      "Shape of Test:  (32573, 8)\n"
     ]
    }
   ],
   "source": [
    "print(\"Shape of Test: \", test_df.shape)"
   ]
  },
  {
   "cell_type": "code",
   "execution_count": 0,
   "metadata": {
    "colab": {},
    "colab_type": "code",
    "id": "BMPc9tJ17kI0",
    "outputId": "4ab90411-8729-4365-943e-046ebb8088de"
   },
   "outputs": [
    {
     "data": {
      "text/plain": [
       "id                       0\n",
       "week                     0\n",
       "center_id                0\n",
       "meal_id                  0\n",
       "checkout_price           0\n",
       "base_price               0\n",
       "emailer_for_promotion    0\n",
       "homepage_featured        0\n",
       "dtype: int64"
      ]
     },
     "execution_count": 15,
     "metadata": {
      "tags": []
     },
     "output_type": "execute_result"
    }
   ],
   "source": [
    "# NaN values in test data\n",
    "test_df.isnull().sum()"
   ]
  },
  {
   "cell_type": "code",
   "execution_count": 0,
   "metadata": {
    "colab": {},
    "colab_type": "code",
    "id": "TFTvEsoh7kTK"
   },
   "outputs": [],
   "source": [
    "train_df = pd.merge(train_df, fci_df, on='center_id')\n",
    "test_df = pd.merge(test_df, fci_df, on='center_id')\n",
    "\n",
    "train_df = pd.merge(train_df, mi_df, on='meal_id')\n",
    "test_df = pd.merge(test_df, mi_df, on='meal_id')"
   ]
  },
  {
   "cell_type": "code",
   "execution_count": 19,
   "metadata": {
    "colab": {
     "base_uri": "https://localhost:8080/",
     "height": 204
    },
    "colab_type": "code",
    "id": "ws77JkkJ7kTL",
    "outputId": "6a28dd6a-2f0d-40bd-eb11-93ac35b5c83e"
   },
   "outputs": [
    {
     "data": {
      "text/html": [
       "<div>\n",
       "<style scoped>\n",
       "    .dataframe tbody tr th:only-of-type {\n",
       "        vertical-align: middle;\n",
       "    }\n",
       "\n",
       "    .dataframe tbody tr th {\n",
       "        vertical-align: top;\n",
       "    }\n",
       "\n",
       "    .dataframe thead th {\n",
       "        text-align: right;\n",
       "    }\n",
       "</style>\n",
       "<table border=\"1\" class=\"dataframe\">\n",
       "  <thead>\n",
       "    <tr style=\"text-align: right;\">\n",
       "      <th></th>\n",
       "      <th>id</th>\n",
       "      <th>week</th>\n",
       "      <th>center_id</th>\n",
       "      <th>meal_id</th>\n",
       "      <th>checkout_price</th>\n",
       "      <th>base_price</th>\n",
       "      <th>emailer_for_promotion</th>\n",
       "      <th>homepage_featured</th>\n",
       "      <th>num_orders</th>\n",
       "      <th>city_code</th>\n",
       "      <th>region_code</th>\n",
       "      <th>center_type</th>\n",
       "      <th>op_area</th>\n",
       "      <th>category</th>\n",
       "      <th>cuisine</th>\n",
       "    </tr>\n",
       "  </thead>\n",
       "  <tbody>\n",
       "    <tr>\n",
       "      <th>0</th>\n",
       "      <td>1379560</td>\n",
       "      <td>1</td>\n",
       "      <td>55</td>\n",
       "      <td>1885</td>\n",
       "      <td>136.83</td>\n",
       "      <td>152.29</td>\n",
       "      <td>0</td>\n",
       "      <td>0</td>\n",
       "      <td>177</td>\n",
       "      <td>647</td>\n",
       "      <td>56</td>\n",
       "      <td>TYPE_C</td>\n",
       "      <td>2.0</td>\n",
       "      <td>Beverages</td>\n",
       "      <td>Thai</td>\n",
       "    </tr>\n",
       "    <tr>\n",
       "      <th>1</th>\n",
       "      <td>1018704</td>\n",
       "      <td>2</td>\n",
       "      <td>55</td>\n",
       "      <td>1885</td>\n",
       "      <td>135.83</td>\n",
       "      <td>152.29</td>\n",
       "      <td>0</td>\n",
       "      <td>0</td>\n",
       "      <td>323</td>\n",
       "      <td>647</td>\n",
       "      <td>56</td>\n",
       "      <td>TYPE_C</td>\n",
       "      <td>2.0</td>\n",
       "      <td>Beverages</td>\n",
       "      <td>Thai</td>\n",
       "    </tr>\n",
       "    <tr>\n",
       "      <th>2</th>\n",
       "      <td>1196273</td>\n",
       "      <td>3</td>\n",
       "      <td>55</td>\n",
       "      <td>1885</td>\n",
       "      <td>132.92</td>\n",
       "      <td>133.92</td>\n",
       "      <td>0</td>\n",
       "      <td>0</td>\n",
       "      <td>96</td>\n",
       "      <td>647</td>\n",
       "      <td>56</td>\n",
       "      <td>TYPE_C</td>\n",
       "      <td>2.0</td>\n",
       "      <td>Beverages</td>\n",
       "      <td>Thai</td>\n",
       "    </tr>\n",
       "    <tr>\n",
       "      <th>3</th>\n",
       "      <td>1116527</td>\n",
       "      <td>4</td>\n",
       "      <td>55</td>\n",
       "      <td>1885</td>\n",
       "      <td>135.86</td>\n",
       "      <td>134.86</td>\n",
       "      <td>0</td>\n",
       "      <td>0</td>\n",
       "      <td>163</td>\n",
       "      <td>647</td>\n",
       "      <td>56</td>\n",
       "      <td>TYPE_C</td>\n",
       "      <td>2.0</td>\n",
       "      <td>Beverages</td>\n",
       "      <td>Thai</td>\n",
       "    </tr>\n",
       "    <tr>\n",
       "      <th>4</th>\n",
       "      <td>1343872</td>\n",
       "      <td>5</td>\n",
       "      <td>55</td>\n",
       "      <td>1885</td>\n",
       "      <td>146.50</td>\n",
       "      <td>147.50</td>\n",
       "      <td>0</td>\n",
       "      <td>0</td>\n",
       "      <td>215</td>\n",
       "      <td>647</td>\n",
       "      <td>56</td>\n",
       "      <td>TYPE_C</td>\n",
       "      <td>2.0</td>\n",
       "      <td>Beverages</td>\n",
       "      <td>Thai</td>\n",
       "    </tr>\n",
       "  </tbody>\n",
       "</table>\n",
       "</div>"
      ],
      "text/plain": [
       "        id  week  center_id  meal_id  checkout_price  base_price  \\\n",
       "0  1379560     1         55     1885          136.83      152.29   \n",
       "1  1018704     2         55     1885          135.83      152.29   \n",
       "2  1196273     3         55     1885          132.92      133.92   \n",
       "3  1116527     4         55     1885          135.86      134.86   \n",
       "4  1343872     5         55     1885          146.50      147.50   \n",
       "\n",
       "   emailer_for_promotion  homepage_featured  num_orders  city_code  \\\n",
       "0                      0                  0         177        647   \n",
       "1                      0                  0         323        647   \n",
       "2                      0                  0          96        647   \n",
       "3                      0                  0         163        647   \n",
       "4                      0                  0         215        647   \n",
       "\n",
       "   region_code center_type  op_area   category cuisine  \n",
       "0           56      TYPE_C      2.0  Beverages    Thai  \n",
       "1           56      TYPE_C      2.0  Beverages    Thai  \n",
       "2           56      TYPE_C      2.0  Beverages    Thai  \n",
       "3           56      TYPE_C      2.0  Beverages    Thai  \n",
       "4           56      TYPE_C      2.0  Beverages    Thai  "
      ]
     },
     "execution_count": 19,
     "metadata": {
      "tags": []
     },
     "output_type": "execute_result"
    }
   ],
   "source": [
    "train_df.head()"
   ]
  },
  {
   "cell_type": "code",
   "execution_count": 0,
   "metadata": {
    "colab": {},
    "colab_type": "code",
    "id": "5Ub-zRN77kTN"
   },
   "outputs": [],
   "source": [
    "train_df['train_or_test'] = 'train'\n",
    "test_df['train_or_test'] = 'test'"
   ]
  },
  {
   "cell_type": "code",
   "execution_count": 0,
   "metadata": {
    "colab": {},
    "colab_type": "code",
    "id": "1JoOnr1i7kTR"
   },
   "outputs": [],
   "source": [
    "train_df['num_orders'] = np.log1p(train_df['num_orders'])"
   ]
  },
  {
   "cell_type": "code",
   "execution_count": 0,
   "metadata": {
    "colab": {},
    "colab_type": "code",
    "id": "dw1QtKCH7kTW"
   },
   "outputs": [],
   "source": [
    "all_df = train_df.append(test_df).reset_index(drop=True)[train_df.columns]"
   ]
  },
  {
   "cell_type": "code",
   "execution_count": 0,
   "metadata": {
    "colab": {},
    "colab_type": "code",
    "id": "rgHk_DO27kTZ"
   },
   "outputs": [],
   "source": [
    "all_df = all_df.sort_values(['center_id', 'meal_id', 'week']).reset_index(drop=True)"
   ]
  },
  {
   "cell_type": "code",
   "execution_count": 0,
   "metadata": {
    "colab": {},
    "colab_type": "code",
    "id": "tP2PxrPI7kTb"
   },
   "outputs": [],
   "source": [
    "all_df['checkout_price'] = np.log1p(all_df['checkout_price'])\n",
    "all_df['base_price'] = np.log1p(all_df['base_price'])"
   ]
  },
  {
   "cell_type": "code",
   "execution_count": 0,
   "metadata": {
    "colab": {},
    "colab_type": "code",
    "id": "cv0V3lD57kTf"
   },
   "outputs": [],
   "source": [
    "all_df['discount_on_base'] = (all_df['base_price'] - all_df['checkout_price']) / all_df['base_price']"
   ]
  },
  {
   "cell_type": "code",
   "execution_count": 52,
   "metadata": {
    "colab": {
     "base_uri": "https://localhost:8080/",
     "height": 224
    },
    "colab_type": "code",
    "id": "LIbTfZhG7kTi",
    "outputId": "78fa175f-153a-4e9b-e89a-145174cb24a6"
   },
   "outputs": [
    {
     "data": {
      "text/html": [
       "<div>\n",
       "<style scoped>\n",
       "    .dataframe tbody tr th:only-of-type {\n",
       "        vertical-align: middle;\n",
       "    }\n",
       "\n",
       "    .dataframe tbody tr th {\n",
       "        vertical-align: top;\n",
       "    }\n",
       "\n",
       "    .dataframe thead th {\n",
       "        text-align: right;\n",
       "    }\n",
       "</style>\n",
       "<table border=\"1\" class=\"dataframe\">\n",
       "  <thead>\n",
       "    <tr style=\"text-align: right;\">\n",
       "      <th></th>\n",
       "      <th>id</th>\n",
       "      <th>week</th>\n",
       "      <th>center_id</th>\n",
       "      <th>meal_id</th>\n",
       "      <th>checkout_price</th>\n",
       "      <th>base_price</th>\n",
       "      <th>emailer_for_promotion</th>\n",
       "      <th>homepage_featured</th>\n",
       "      <th>num_orders</th>\n",
       "      <th>city_code</th>\n",
       "      <th>region_code</th>\n",
       "      <th>center_type</th>\n",
       "      <th>op_area</th>\n",
       "      <th>category</th>\n",
       "      <th>cuisine</th>\n",
       "      <th>train_or_test</th>\n",
       "      <th>discount_on_base</th>\n",
       "    </tr>\n",
       "  </thead>\n",
       "  <tbody>\n",
       "    <tr>\n",
       "      <th>0</th>\n",
       "      <td>1436842</td>\n",
       "      <td>1</td>\n",
       "      <td>10</td>\n",
       "      <td>1062</td>\n",
       "      <td>5.206147</td>\n",
       "      <td>5.206147</td>\n",
       "      <td>0</td>\n",
       "      <td>0</td>\n",
       "      <td>6.763885</td>\n",
       "      <td>590</td>\n",
       "      <td>56</td>\n",
       "      <td>TYPE_B</td>\n",
       "      <td>6.3</td>\n",
       "      <td>Beverages</td>\n",
       "      <td>Italian</td>\n",
       "      <td>train</td>\n",
       "      <td>0.000000</td>\n",
       "    </tr>\n",
       "    <tr>\n",
       "      <th>1</th>\n",
       "      <td>1205013</td>\n",
       "      <td>2</td>\n",
       "      <td>10</td>\n",
       "      <td>1062</td>\n",
       "      <td>5.216890</td>\n",
       "      <td>5.211451</td>\n",
       "      <td>0</td>\n",
       "      <td>0</td>\n",
       "      <td>6.663133</td>\n",
       "      <td>590</td>\n",
       "      <td>56</td>\n",
       "      <td>TYPE_B</td>\n",
       "      <td>6.3</td>\n",
       "      <td>Beverages</td>\n",
       "      <td>Italian</td>\n",
       "      <td>train</td>\n",
       "      <td>-0.001044</td>\n",
       "    </tr>\n",
       "    <tr>\n",
       "      <th>2</th>\n",
       "      <td>1447751</td>\n",
       "      <td>3</td>\n",
       "      <td>10</td>\n",
       "      <td>1062</td>\n",
       "      <td>5.222300</td>\n",
       "      <td>5.211451</td>\n",
       "      <td>0</td>\n",
       "      <td>0</td>\n",
       "      <td>6.747587</td>\n",
       "      <td>590</td>\n",
       "      <td>56</td>\n",
       "      <td>TYPE_B</td>\n",
       "      <td>6.3</td>\n",
       "      <td>Beverages</td>\n",
       "      <td>Italian</td>\n",
       "      <td>train</td>\n",
       "      <td>-0.002082</td>\n",
       "    </tr>\n",
       "    <tr>\n",
       "      <th>3</th>\n",
       "      <td>1014968</td>\n",
       "      <td>4</td>\n",
       "      <td>10</td>\n",
       "      <td>1062</td>\n",
       "      <td>5.211451</td>\n",
       "      <td>5.216890</td>\n",
       "      <td>0</td>\n",
       "      <td>0</td>\n",
       "      <td>7.092574</td>\n",
       "      <td>590</td>\n",
       "      <td>56</td>\n",
       "      <td>TYPE_B</td>\n",
       "      <td>6.3</td>\n",
       "      <td>Beverages</td>\n",
       "      <td>Italian</td>\n",
       "      <td>train</td>\n",
       "      <td>0.001043</td>\n",
       "    </tr>\n",
       "    <tr>\n",
       "      <th>4</th>\n",
       "      <td>1003563</td>\n",
       "      <td>5</td>\n",
       "      <td>10</td>\n",
       "      <td>1062</td>\n",
       "      <td>5.217053</td>\n",
       "      <td>5.206147</td>\n",
       "      <td>0</td>\n",
       "      <td>0</td>\n",
       "      <td>6.865891</td>\n",
       "      <td>590</td>\n",
       "      <td>56</td>\n",
       "      <td>TYPE_B</td>\n",
       "      <td>6.3</td>\n",
       "      <td>Beverages</td>\n",
       "      <td>Italian</td>\n",
       "      <td>train</td>\n",
       "      <td>-0.002095</td>\n",
       "    </tr>\n",
       "  </tbody>\n",
       "</table>\n",
       "</div>"
      ],
      "text/plain": [
       "        id  week  center_id  meal_id  checkout_price  base_price  \\\n",
       "0  1436842     1         10     1062        5.206147    5.206147   \n",
       "1  1205013     2         10     1062        5.216890    5.211451   \n",
       "2  1447751     3         10     1062        5.222300    5.211451   \n",
       "3  1014968     4         10     1062        5.211451    5.216890   \n",
       "4  1003563     5         10     1062        5.217053    5.206147   \n",
       "\n",
       "   emailer_for_promotion  homepage_featured  num_orders  city_code  \\\n",
       "0                      0                  0    6.763885        590   \n",
       "1                      0                  0    6.663133        590   \n",
       "2                      0                  0    6.747587        590   \n",
       "3                      0                  0    7.092574        590   \n",
       "4                      0                  0    6.865891        590   \n",
       "\n",
       "   region_code center_type  op_area   category  cuisine train_or_test  \\\n",
       "0           56      TYPE_B      6.3  Beverages  Italian         train   \n",
       "1           56      TYPE_B      6.3  Beverages  Italian         train   \n",
       "2           56      TYPE_B      6.3  Beverages  Italian         train   \n",
       "3           56      TYPE_B      6.3  Beverages  Italian         train   \n",
       "4           56      TYPE_B      6.3  Beverages  Italian         train   \n",
       "\n",
       "   discount_on_base  \n",
       "0          0.000000  \n",
       "1         -0.001044  \n",
       "2         -0.002082  \n",
       "3          0.001043  \n",
       "4         -0.002095  "
      ]
     },
     "execution_count": 52,
     "metadata": {
      "tags": []
     },
     "output_type": "execute_result"
    }
   ],
   "source": [
    "all_df.head()"
   ]
  },
  {
   "cell_type": "code",
   "execution_count": 53,
   "metadata": {
    "colab": {
     "base_uri": "https://localhost:8080/",
     "height": 279
    },
    "colab_type": "code",
    "id": "V_ADelO_7kTl",
    "outputId": "582ff6c7-ab07-482b-a58f-2fc88cec1693"
   },
   "outputs": [
    {
     "data": {
      "image/png": "[encoded data removed]",
      "text/plain": [
       "<matplotlib.figure.Figure at 0x7f46522d7240>"
      ]
     },
     "metadata": {
      "tags": []
     },
     "output_type": "display_data"
    }
   ],
   "source": [
    "sns.distplot(all_df['discount_on_base'], bins=500)\n",
    "plt.show()"
   ]
  },
  {
   "cell_type": "code",
   "execution_count": 0,
   "metadata": {
    "colab": {},
    "colab_type": "code",
    "id": "YE_N0D6p7kT0"
   },
   "outputs": [],
   "source": [
    "all_df['neg_discount'] = (all_df['discount_on_base'] < 0).astype(int)"
   ]
  },
  {
   "cell_type": "code",
   "execution_count": 0,
   "metadata": {
    "colab": {},
    "colab_type": "code",
    "id": "N0NPuuEp7kT2"
   },
   "outputs": [],
   "source": [
    "all_df['price_last_curr_diff'] = (all_df['checkout_price'].shift(1) - all_df['checkout_price']).fillna(1)/ all_df['checkout_price'].shift(1).fillna(1)"
   ]
  },
  {
   "cell_type": "code",
   "execution_count": 0,
   "metadata": {
    "colab": {},
    "colab_type": "code",
    "id": "2t-wZU537kT5"
   },
   "outputs": [],
   "source": [
    "for _, r in all_df.groupby(['center_id', 'meal_id'])['week'].first().reset_index().iterrows():\n",
    "    all_df.loc[(all_df['center_id']==r['center_id']) & (all_df['meal_id']==r['meal_id']) & (all_df['week']==r['week']), 'price_last_curr_diff'] = all_df[(all_df['center_id']==r['center_id']) & (all_df['meal_id']==r['meal_id']) & (all_df['week']!=r['week'])]['price_last_curr_diff'].mean()"
   ]
  },
  {
   "cell_type": "code",
   "execution_count": 0,
   "metadata": {
    "colab": {},
    "colab_type": "code",
    "id": "F7LeqXmk7kT7"
   },
   "outputs": [],
   "source": [
    "all_df['price_last_curr_diff'] = all_df['price_last_curr_diff'].fillna(0)"
   ]
  },
  {
   "cell_type": "code",
   "execution_count": 0,
   "metadata": {
    "colab": {},
    "colab_type": "code",
    "id": "2JHEzIG17kT-"
   },
   "outputs": [],
   "source": [
    "all_df['price_increase'] = (all_df['price_last_curr_diff'] < 0).astype(int)"
   ]
  },
  {
   "cell_type": "code",
   "execution_count": 59,
   "metadata": {
    "colab": {
     "base_uri": "https://localhost:8080/",
     "height": 224
    },
    "colab_type": "code",
    "id": "gyz3LtsH7kUX",
    "outputId": "c2e0d953-8313-4566-a0ea-5f5a2158183a"
   },
   "outputs": [
    {
     "data": {
      "text/html": [
       "<div>\n",
       "<style scoped>\n",
       "    .dataframe tbody tr th:only-of-type {\n",
       "        vertical-align: middle;\n",
       "    }\n",
       "\n",
       "    .dataframe tbody tr th {\n",
       "        vertical-align: top;\n",
       "    }\n",
       "\n",
       "    .dataframe thead th {\n",
       "        text-align: right;\n",
       "    }\n",
       "</style>\n",
       "<table border=\"1\" class=\"dataframe\">\n",
       "  <thead>\n",
       "    <tr style=\"text-align: right;\">\n",
       "      <th></th>\n",
       "      <th>id</th>\n",
       "      <th>week</th>\n",
       "      <th>center_id</th>\n",
       "      <th>meal_id</th>\n",
       "      <th>checkout_price</th>\n",
       "      <th>base_price</th>\n",
       "      <th>emailer_for_promotion</th>\n",
       "      <th>homepage_featured</th>\n",
       "      <th>num_orders</th>\n",
       "      <th>city_code</th>\n",
       "      <th>region_code</th>\n",
       "      <th>center_type</th>\n",
       "      <th>op_area</th>\n",
       "      <th>category</th>\n",
       "      <th>cuisine</th>\n",
       "      <th>train_or_test</th>\n",
       "      <th>discount_on_base</th>\n",
       "      <th>neg_discount</th>\n",
       "      <th>price_last_curr_diff</th>\n",
       "      <th>price_increase</th>\n",
       "    </tr>\n",
       "  </thead>\n",
       "  <tbody>\n",
       "    <tr>\n",
       "      <th>0</th>\n",
       "      <td>1436842</td>\n",
       "      <td>1</td>\n",
       "      <td>10</td>\n",
       "      <td>1062</td>\n",
       "      <td>5.206147</td>\n",
       "      <td>5.206147</td>\n",
       "      <td>0</td>\n",
       "      <td>0</td>\n",
       "      <td>6.763885</td>\n",
       "      <td>590</td>\n",
       "      <td>56</td>\n",
       "      <td>TYPE_B</td>\n",
       "      <td>6.3</td>\n",
       "      <td>Beverages</td>\n",
       "      <td>Italian</td>\n",
       "      <td>train</td>\n",
       "      <td>0.000000</td>\n",
       "      <td>0</td>\n",
       "      <td>0.000086</td>\n",
       "      <td>0</td>\n",
       "    </tr>\n",
       "    <tr>\n",
       "      <th>1</th>\n",
       "      <td>1205013</td>\n",
       "      <td>2</td>\n",
       "      <td>10</td>\n",
       "      <td>1062</td>\n",
       "      <td>5.216890</td>\n",
       "      <td>5.211451</td>\n",
       "      <td>0</td>\n",
       "      <td>0</td>\n",
       "      <td>6.663133</td>\n",
       "      <td>590</td>\n",
       "      <td>56</td>\n",
       "      <td>TYPE_B</td>\n",
       "      <td>6.3</td>\n",
       "      <td>Beverages</td>\n",
       "      <td>Italian</td>\n",
       "      <td>train</td>\n",
       "      <td>-0.001044</td>\n",
       "      <td>1</td>\n",
       "      <td>-0.002064</td>\n",
       "      <td>1</td>\n",
       "    </tr>\n",
       "    <tr>\n",
       "      <th>2</th>\n",
       "      <td>1447751</td>\n",
       "      <td>3</td>\n",
       "      <td>10</td>\n",
       "      <td>1062</td>\n",
       "      <td>5.222300</td>\n",
       "      <td>5.211451</td>\n",
       "      <td>0</td>\n",
       "      <td>0</td>\n",
       "      <td>6.747587</td>\n",
       "      <td>590</td>\n",
       "      <td>56</td>\n",
       "      <td>TYPE_B</td>\n",
       "      <td>6.3</td>\n",
       "      <td>Beverages</td>\n",
       "      <td>Italian</td>\n",
       "      <td>train</td>\n",
       "      <td>-0.002082</td>\n",
       "      <td>1</td>\n",
       "      <td>-0.001037</td>\n",
       "      <td>1</td>\n",
       "    </tr>\n",
       "    <tr>\n",
       "      <th>3</th>\n",
       "      <td>1014968</td>\n",
       "      <td>4</td>\n",
       "      <td>10</td>\n",
       "      <td>1062</td>\n",
       "      <td>5.211451</td>\n",
       "      <td>5.216890</td>\n",
       "      <td>0</td>\n",
       "      <td>0</td>\n",
       "      <td>7.092574</td>\n",
       "      <td>590</td>\n",
       "      <td>56</td>\n",
       "      <td>TYPE_B</td>\n",
       "      <td>6.3</td>\n",
       "      <td>Beverages</td>\n",
       "      <td>Italian</td>\n",
       "      <td>train</td>\n",
       "      <td>0.001043</td>\n",
       "      <td>0</td>\n",
       "      <td>0.002077</td>\n",
       "      <td>0</td>\n",
       "    </tr>\n",
       "    <tr>\n",
       "      <th>4</th>\n",
       "      <td>1003563</td>\n",
       "      <td>5</td>\n",
       "      <td>10</td>\n",
       "      <td>1062</td>\n",
       "      <td>5.217053</td>\n",
       "      <td>5.206147</td>\n",
       "      <td>0</td>\n",
       "      <td>0</td>\n",
       "      <td>6.865891</td>\n",
       "      <td>590</td>\n",
       "      <td>56</td>\n",
       "      <td>TYPE_B</td>\n",
       "      <td>6.3</td>\n",
       "      <td>Beverages</td>\n",
       "      <td>Italian</td>\n",
       "      <td>train</td>\n",
       "      <td>-0.002095</td>\n",
       "      <td>1</td>\n",
       "      <td>-0.001075</td>\n",
       "      <td>1</td>\n",
       "    </tr>\n",
       "  </tbody>\n",
       "</table>\n",
       "</div>"
      ],
      "text/plain": [
       "        id  week  center_id  meal_id  checkout_price  base_price  \\\n",
       "0  1436842     1         10     1062        5.206147    5.206147   \n",
       "1  1205013     2         10     1062        5.216890    5.211451   \n",
       "2  1447751     3         10     1062        5.222300    5.211451   \n",
       "3  1014968     4         10     1062        5.211451    5.216890   \n",
       "4  1003563     5         10     1062        5.217053    5.206147   \n",
       "\n",
       "   emailer_for_promotion  homepage_featured  num_orders  city_code  \\\n",
       "0                      0                  0    6.763885        590   \n",
       "1                      0                  0    6.663133        590   \n",
       "2                      0                  0    6.747587        590   \n",
       "3                      0                  0    7.092574        590   \n",
       "4                      0                  0    6.865891        590   \n",
       "\n",
       "   region_code center_type  op_area   category  cuisine train_or_test  \\\n",
       "0           56      TYPE_B      6.3  Beverages  Italian         train   \n",
       "1           56      TYPE_B      6.3  Beverages  Italian         train   \n",
       "2           56      TYPE_B      6.3  Beverages  Italian         train   \n",
       "3           56      TYPE_B      6.3  Beverages  Italian         train   \n",
       "4           56      TYPE_B      6.3  Beverages  Italian         train   \n",
       "\n",
       "   discount_on_base  neg_discount  price_last_curr_diff  price_increase  \n",
       "0          0.000000             0              0.000086               0  \n",
       "1         -0.001044             1             -0.002064               1  \n",
       "2         -0.002082             1             -0.001037               1  \n",
       "3          0.001043             0              0.002077               0  \n",
       "4         -0.002095             1             -0.001075               1  "
      ]
     },
     "execution_count": 59,
     "metadata": {
      "tags": []
     },
     "output_type": "execute_result"
    }
   ],
   "source": [
    "all_df.head()"
   ]
  },
  {
   "cell_type": "code",
   "execution_count": 0,
   "metadata": {
    "colab": {},
    "colab_type": "code",
    "id": "i8TpNnTy-62v"
   },
   "outputs": [],
   "source": []
  },
  {
   "cell_type": "code",
   "execution_count": 0,
   "metadata": {
    "colab": {},
    "colab_type": "code",
    "id": "qc5lTDsI-66A"
   },
   "outputs": [],
   "source": []
  },
  {
   "cell_type": "code",
   "execution_count": 0,
   "metadata": {
    "colab": {},
    "colab_type": "code",
    "id": "5wmbvPU3-690"
   },
   "outputs": [],
   "source": []
  },
  {
   "cell_type": "code",
   "execution_count": 0,
   "metadata": {
    "colab": {},
    "colab_type": "code",
    "id": "5mnkRuDX-6uF"
   },
   "outputs": [],
   "source": []
  },
  {
   "cell_type": "markdown",
   "metadata": {
    "colab_type": "text",
    "id": "dFDVjtZx7kU3"
   },
   "source": [
    "#### Some functions to create aggregated, rolling mean/median, and exponentially weighted features.\n",
    "\n",
    "Code from : https://www.kaggle.com/abhilashawasthi/feature-engineering-lgb-model"
   ]
  },
  {
   "cell_type": "code",
   "execution_count": 0,
   "metadata": {
    "colab": {},
    "colab_type": "code",
    "id": "R-1_TwFa7kU4"
   },
   "outputs": [],
   "source": [
    "# Monthwise aggregated sales values\n",
    "def create_sales_agg_monthwise_features(df, gpby_cols, target_col, agg_funcs):\n",
    "    '''\n",
    "    Creates various sales agg features with given agg functions  \n",
    "    '''\n",
    "    gpby = df.groupby(gpby_cols)\n",
    "    newdf = df[gpby_cols].drop_duplicates().reset_index(drop=True)\n",
    "    for agg_name, agg_func in agg_funcs.items():\n",
    "        aggdf = gpby[target_col].agg(agg_func).reset_index()\n",
    "        aggdf.rename(columns={target_col:target_col+'_'+agg_name}, inplace=True)\n",
    "        newdf = newdf.merge(aggdf, on=gpby_cols, how='left')\n",
    "    return newdf"
   ]
  },
  {
   "cell_type": "code",
   "execution_count": 0,
   "metadata": {
    "colab": {},
    "colab_type": "code",
    "id": "AamBqWtd7kU7"
   },
   "outputs": [],
   "source": [
    "# Features constructed from previous sales values\n",
    "\n",
    "#Creating sales lag features\n",
    "def create_sales_lag_feats(df, gpby_cols, target_col, lags):\n",
    "    gpby = df.groupby(gpby_cols)\n",
    "    for i in lags:\n",
    "        df['_'.join([target_col, 'lag', str(i)])] = \\\n",
    "                gpby[target_col].shift(i).values + np.random.normal(scale=1.6, size=(len(df),))\n",
    "    return df\n",
    "\n",
    "\n",
    "# Creating sales rolling mean features\n",
    "def create_sales_rmean_feats(df, gpby_cols, target_col, windows, min_periods=2, \n",
    "                             shift=1, win_type=None):\n",
    "    gpby = df.groupby(gpby_cols)\n",
    "    for w in windows:\n",
    "        df['_'.join([target_col, 'rmean', str(w)])] = \\\n",
    "            gpby[target_col].shift(shift).rolling(window=w, \n",
    "                                                  min_periods=min_periods,\n",
    "                                                  win_type=win_type).mean().values +\\\n",
    "            np.random.normal(scale=1.6, size=(len(df),))\n",
    "    return df\n",
    "\n",
    "\n",
    "# Creating sales rolling median features\n",
    "def create_sales_rmed_feats(df, gpby_cols, target_col, windows, min_periods=2, \n",
    "                            shift=1, win_type=None):\n",
    "    gpby = df.groupby(gpby_cols)\n",
    "    for w in windows:\n",
    "        df['_'.join([target_col, 'rmed', str(w)])] = \\\n",
    "            gpby[target_col].shift(shift).rolling(window=w, \n",
    "                                                  min_periods=min_periods,\n",
    "                                                  win_type=win_type).median().values +\\\n",
    "            np.random.normal(scale=1.6, size=(len(df),))\n",
    "    return df\n",
    "\n",
    "# Creating sales exponentially weighted mean features\n",
    "def create_sales_ewm_feats(df, gpby_cols, target_col, alpha=[0.9], shift=[1]):\n",
    "    gpby = df.groupby(gpby_cols)\n",
    "    for a in alpha:\n",
    "        for s in shift:\n",
    "            df['_'.join([target_col, 'lag', str(s), 'ewm', str(a)])] = \\\n",
    "                gpby[target_col].shift(s).ewm(alpha=a).mean().values\n",
    "    return df"
   ]
  },
  {
   "cell_type": "code",
   "execution_count": 0,
   "metadata": {
    "colab": {},
    "colab_type": "code",
    "id": "6P68BOBU7kU9"
   },
   "outputs": [],
   "source": [
    "def one_hot_encoder(df, ohe_cols):\n",
    "    '''\n",
    "    One-Hot Encoder function\n",
    "    '''\n",
    "    print('Creating OHE features..\\nOld df shape:{}'.format(df.shape))\n",
    "    df = pd.get_dummies(df, columns=ohe_cols)\n",
    "    print('New df shape:{}'.format(df.shape))\n",
    "    return df"
   ]
  },
  {
   "cell_type": "code",
   "execution_count": 0,
   "metadata": {
    "colab": {},
    "colab_type": "code",
    "id": "kwc4SNbZ7kVC"
   },
   "outputs": [],
   "source": [
    "# # Creating num_orders lag, rolling mean, rolling median, ohe features of the above train set\n",
    "all_df = create_sales_lag_feats(all_df, gpby_cols=['center_id','meal_id'], target_col='num_orders', \n",
    "                               lags=[10,11, 12])\n",
    "\n",
    "## all_df = create_sales_rmean_feats(all_df, gpby_cols=['center_id','meal_id'], \n",
    "##                                 target_col='num_orders', windows=[26,52,104], \n",
    "##                                 min_periods=3, win_type='triang')\n",
    "\n",
    "## all_df = create_sales_rmed_feats(all_df, gpby_cols=['center_id','meal_id'], \n",
    "##                                 target_col='num_orders', windows=[26,52,104], \n",
    "##                                 min_periods=3, win_type=None)\n",
    "\n",
    "all_df = create_sales_ewm_feats(all_df, gpby_cols=['center_id','meal_id'], \n",
    "                               target_col='num_orders', \n",
    "                               alpha=[0.5], \n",
    "                               shift=[10,11,12,13,14,15])\n"
   ]
  },
  {
   "cell_type": "code",
   "execution_count": 61,
   "metadata": {
    "colab": {
     "base_uri": "https://localhost:8080/",
     "height": 34
    },
    "colab_type": "code",
    "id": "YHGQCo9_7kVZ",
    "outputId": "9b3a307a-2046-4ec7-ddf1-075b7bad6997"
   },
   "outputs": [
    {
     "data": {
      "text/plain": [
       "(489121, 29)"
      ]
     },
     "execution_count": 61,
     "metadata": {
      "tags": []
     },
     "output_type": "execute_result"
    }
   ],
   "source": [
    "all_df.shape"
   ]
  },
  {
   "cell_type": "code",
   "execution_count": 62,
   "metadata": {
    "colab": {
     "base_uri": "https://localhost:8080/",
     "height": 253
    },
    "colab_type": "code",
    "id": "yvo0a1dJ7kVp",
    "outputId": "a43e7327-94e6-4163-c06c-0dd0e847ece9"
   },
   "outputs": [
    {
     "data": {
      "text/html": [
       "<div>\n",
       "<style scoped>\n",
       "    .dataframe tbody tr th:only-of-type {\n",
       "        vertical-align: middle;\n",
       "    }\n",
       "\n",
       "    .dataframe tbody tr th {\n",
       "        vertical-align: top;\n",
       "    }\n",
       "\n",
       "    .dataframe thead th {\n",
       "        text-align: right;\n",
       "    }\n",
       "</style>\n",
       "<table border=\"1\" class=\"dataframe\">\n",
       "  <thead>\n",
       "    <tr style=\"text-align: right;\">\n",
       "      <th></th>\n",
       "      <th>id</th>\n",
       "      <th>week</th>\n",
       "      <th>center_id</th>\n",
       "      <th>meal_id</th>\n",
       "      <th>checkout_price</th>\n",
       "      <th>base_price</th>\n",
       "      <th>emailer_for_promotion</th>\n",
       "      <th>homepage_featured</th>\n",
       "      <th>num_orders</th>\n",
       "      <th>city_code</th>\n",
       "      <th>region_code</th>\n",
       "      <th>center_type</th>\n",
       "      <th>op_area</th>\n",
       "      <th>category</th>\n",
       "      <th>cuisine</th>\n",
       "      <th>train_or_test</th>\n",
       "      <th>discount_on_base</th>\n",
       "      <th>neg_discount</th>\n",
       "      <th>price_last_curr_diff</th>\n",
       "      <th>price_increase</th>\n",
       "      <th>num_orders_lag_10</th>\n",
       "      <th>num_orders_lag_11</th>\n",
       "      <th>num_orders_lag_12</th>\n",
       "      <th>num_orders_lag_10_ewm_0.5</th>\n",
       "      <th>num_orders_lag_11_ewm_0.5</th>\n",
       "      <th>num_orders_lag_12_ewm_0.5</th>\n",
       "      <th>num_orders_lag_13_ewm_0.5</th>\n",
       "      <th>num_orders_lag_14_ewm_0.5</th>\n",
       "      <th>num_orders_lag_15_ewm_0.5</th>\n",
       "    </tr>\n",
       "  </thead>\n",
       "  <tbody>\n",
       "    <tr>\n",
       "      <th>0</th>\n",
       "      <td>1436842</td>\n",
       "      <td>1</td>\n",
       "      <td>10</td>\n",
       "      <td>1062</td>\n",
       "      <td>5.206147</td>\n",
       "      <td>5.206147</td>\n",
       "      <td>0</td>\n",
       "      <td>0</td>\n",
       "      <td>6.763885</td>\n",
       "      <td>590</td>\n",
       "      <td>56</td>\n",
       "      <td>TYPE_B</td>\n",
       "      <td>6.3</td>\n",
       "      <td>Beverages</td>\n",
       "      <td>Italian</td>\n",
       "      <td>train</td>\n",
       "      <td>0.000000</td>\n",
       "      <td>0</td>\n",
       "      <td>0.000086</td>\n",
       "      <td>0</td>\n",
       "      <td>NaN</td>\n",
       "      <td>NaN</td>\n",
       "      <td>NaN</td>\n",
       "      <td>NaN</td>\n",
       "      <td>NaN</td>\n",
       "      <td>NaN</td>\n",
       "      <td>NaN</td>\n",
       "      <td>NaN</td>\n",
       "      <td>NaN</td>\n",
       "    </tr>\n",
       "    <tr>\n",
       "      <th>1</th>\n",
       "      <td>1205013</td>\n",
       "      <td>2</td>\n",
       "      <td>10</td>\n",
       "      <td>1062</td>\n",
       "      <td>5.216890</td>\n",
       "      <td>5.211451</td>\n",
       "      <td>0</td>\n",
       "      <td>0</td>\n",
       "      <td>6.663133</td>\n",
       "      <td>590</td>\n",
       "      <td>56</td>\n",
       "      <td>TYPE_B</td>\n",
       "      <td>6.3</td>\n",
       "      <td>Beverages</td>\n",
       "      <td>Italian</td>\n",
       "      <td>train</td>\n",
       "      <td>-0.001044</td>\n",
       "      <td>1</td>\n",
       "      <td>-0.002064</td>\n",
       "      <td>1</td>\n",
       "      <td>NaN</td>\n",
       "      <td>NaN</td>\n",
       "      <td>NaN</td>\n",
       "      <td>NaN</td>\n",
       "      <td>NaN</td>\n",
       "      <td>NaN</td>\n",
       "      <td>NaN</td>\n",
       "      <td>NaN</td>\n",
       "      <td>NaN</td>\n",
       "    </tr>\n",
       "    <tr>\n",
       "      <th>...</th>\n",
       "      <td>...</td>\n",
       "      <td>...</td>\n",
       "      <td>...</td>\n",
       "      <td>...</td>\n",
       "      <td>...</td>\n",
       "      <td>...</td>\n",
       "      <td>...</td>\n",
       "      <td>...</td>\n",
       "      <td>...</td>\n",
       "      <td>...</td>\n",
       "      <td>...</td>\n",
       "      <td>...</td>\n",
       "      <td>...</td>\n",
       "      <td>...</td>\n",
       "      <td>...</td>\n",
       "      <td>...</td>\n",
       "      <td>...</td>\n",
       "      <td>...</td>\n",
       "      <td>...</td>\n",
       "      <td>...</td>\n",
       "      <td>...</td>\n",
       "      <td>...</td>\n",
       "      <td>...</td>\n",
       "      <td>...</td>\n",
       "      <td>...</td>\n",
       "      <td>...</td>\n",
       "      <td>...</td>\n",
       "      <td>...</td>\n",
       "      <td>...</td>\n",
       "    </tr>\n",
       "    <tr>\n",
       "      <th>489119</th>\n",
       "      <td>1429037</td>\n",
       "      <td>115</td>\n",
       "      <td>186</td>\n",
       "      <td>2956</td>\n",
       "      <td>6.366522</td>\n",
       "      <td>6.369952</td>\n",
       "      <td>0</td>\n",
       "      <td>0</td>\n",
       "      <td>2.772589</td>\n",
       "      <td>649</td>\n",
       "      <td>34</td>\n",
       "      <td>TYPE_A</td>\n",
       "      <td>3.4</td>\n",
       "      <td>Fish</td>\n",
       "      <td>Continental</td>\n",
       "      <td>train</td>\n",
       "      <td>0.000539</td>\n",
       "      <td>0</td>\n",
       "      <td>0.000539</td>\n",
       "      <td>0</td>\n",
       "      <td>2.718912</td>\n",
       "      <td>4.374945</td>\n",
       "      <td>2.063380</td>\n",
       "      <td>3.097631</td>\n",
       "      <td>3.556204</td>\n",
       "      <td>3.398836</td>\n",
       "      <td>3.430377</td>\n",
       "      <td>3.564916</td>\n",
       "      <td>3.392163</td>\n",
       "    </tr>\n",
       "    <tr>\n",
       "      <th>489120</th>\n",
       "      <td>1285049</td>\n",
       "      <td>116</td>\n",
       "      <td>186</td>\n",
       "      <td>2956</td>\n",
       "      <td>5.680275</td>\n",
       "      <td>6.368239</td>\n",
       "      <td>0</td>\n",
       "      <td>0</td>\n",
       "      <td>4.812184</td>\n",
       "      <td>649</td>\n",
       "      <td>34</td>\n",
       "      <td>TYPE_A</td>\n",
       "      <td>3.4</td>\n",
       "      <td>Fish</td>\n",
       "      <td>Continental</td>\n",
       "      <td>train</td>\n",
       "      <td>0.108030</td>\n",
       "      <td>0</td>\n",
       "      <td>0.107790</td>\n",
       "      <td>0</td>\n",
       "      <td>3.014780</td>\n",
       "      <td>0.568905</td>\n",
       "      <td>3.441018</td>\n",
       "      <td>3.405601</td>\n",
       "      <td>3.097631</td>\n",
       "      <td>3.556204</td>\n",
       "      <td>3.398836</td>\n",
       "      <td>3.430377</td>\n",
       "      <td>3.564916</td>\n",
       "    </tr>\n",
       "  </tbody>\n",
       "</table>\n",
       "<p>489121 rows × 29 columns</p>\n",
       "</div>"
      ],
      "text/plain": [
       "             id  week  center_id  meal_id  checkout_price  base_price  \\\n",
       "0       1436842     1         10     1062        5.206147    5.206147   \n",
       "1       1205013     2         10     1062        5.216890    5.211451   \n",
       "...         ...   ...        ...      ...             ...         ...   \n",
       "489119  1429037   115        186     2956        6.366522    6.369952   \n",
       "489120  1285049   116        186     2956        5.680275    6.368239   \n",
       "\n",
       "        emailer_for_promotion  homepage_featured  num_orders  city_code  \\\n",
       "0                           0                  0    6.763885        590   \n",
       "1                           0                  0    6.663133        590   \n",
       "...                       ...                ...         ...        ...   \n",
       "489119                      0                  0    2.772589        649   \n",
       "489120                      0                  0    4.812184        649   \n",
       "\n",
       "        region_code center_type  op_area   category      cuisine  \\\n",
       "0                56      TYPE_B      6.3  Beverages      Italian   \n",
       "1                56      TYPE_B      6.3  Beverages      Italian   \n",
       "...             ...         ...      ...        ...          ...   \n",
       "489119           34      TYPE_A      3.4       Fish  Continental   \n",
       "489120           34      TYPE_A      3.4       Fish  Continental   \n",
       "\n",
       "       train_or_test  discount_on_base  neg_discount  price_last_curr_diff  \\\n",
       "0              train          0.000000             0              0.000086   \n",
       "1              train         -0.001044             1             -0.002064   \n",
       "...              ...               ...           ...                   ...   \n",
       "489119         train          0.000539             0              0.000539   \n",
       "489120         train          0.108030             0              0.107790   \n",
       "\n",
       "        price_increase  num_orders_lag_10  num_orders_lag_11  \\\n",
       "0                    0                NaN                NaN   \n",
       "1                    1                NaN                NaN   \n",
       "...                ...                ...                ...   \n",
       "489119               0           2.718912           4.374945   \n",
       "489120               0           3.014780           0.568905   \n",
       "\n",
       "        num_orders_lag_12  num_orders_lag_10_ewm_0.5  \\\n",
       "0                     NaN                        NaN   \n",
       "1                     NaN                        NaN   \n",
       "...                   ...                        ...   \n",
       "489119           2.063380                   3.097631   \n",
       "489120           3.441018                   3.405601   \n",
       "\n",
       "        num_orders_lag_11_ewm_0.5  num_orders_lag_12_ewm_0.5  \\\n",
       "0                             NaN                        NaN   \n",
       "1                             NaN                        NaN   \n",
       "...                           ...                        ...   \n",
       "489119                   3.556204                   3.398836   \n",
       "489120                   3.097631                   3.556204   \n",
       "\n",
       "        num_orders_lag_13_ewm_0.5  num_orders_lag_14_ewm_0.5  \\\n",
       "0                             NaN                        NaN   \n",
       "1                             NaN                        NaN   \n",
       "...                           ...                        ...   \n",
       "489119                   3.430377                   3.564916   \n",
       "489120                   3.398836                   3.430377   \n",
       "\n",
       "        num_orders_lag_15_ewm_0.5  \n",
       "0                             NaN  \n",
       "1                             NaN  \n",
       "...                           ...  \n",
       "489119                   3.392163  \n",
       "489120                   3.564916  \n",
       "\n",
       "[489121 rows x 29 columns]"
      ]
     },
     "metadata": {
      "tags": []
     },
     "output_type": "display_data"
    }
   ],
   "source": [
    "show_all(all_df, 5, None)"
   ]
  },
  {
   "cell_type": "code",
   "execution_count": 0,
   "metadata": {
    "colab": {},
    "colab_type": "code",
    "id": "u2qcWb-j7kVv"
   },
   "outputs": [],
   "source": [
    "trn = all_df.loc[all_df['train_or_test']=='train', :]\n",
    "test = all_df.loc[all_df['train_or_test']=='test', :]"
   ]
  },
  {
   "cell_type": "code",
   "execution_count": 70,
   "metadata": {
    "colab": {
     "base_uri": "https://localhost:8080/",
     "height": 34
    },
    "colab_type": "code",
    "id": "P0X-hzgj7kVy",
    "outputId": "36bbd97a-1624-4549-eab0-6a885cdb5c72"
   },
   "outputs": [
    {
     "data": {
      "text/plain": [
       "(456548, 29)"
      ]
     },
     "execution_count": 70,
     "metadata": {
      "tags": []
     },
     "output_type": "execute_result"
    }
   ],
   "source": [
    "trn.shape"
   ]
  },
  {
   "cell_type": "code",
   "execution_count": 71,
   "metadata": {
    "colab": {
     "base_uri": "https://localhost:8080/",
     "height": 34
    },
    "colab_type": "code",
    "id": "pHgLmVs-7kV-",
    "outputId": "50a231fc-b07b-4fe5-be7b-9c571a3dc6a7"
   },
   "outputs": [
    {
     "data": {
      "text/plain": [
       "(32573, 29)"
      ]
     },
     "execution_count": 71,
     "metadata": {
      "tags": []
     },
     "output_type": "execute_result"
    }
   ],
   "source": [
    "test.shape"
   ]
  },
  {
   "cell_type": "code",
   "execution_count": 77,
   "metadata": {
    "colab": {
     "base_uri": "https://localhost:8080/",
     "height": 527
    },
    "colab_type": "code",
    "id": "gfij1Aar7kWU",
    "outputId": "f586720a-2ff7-4729-ef3a-91d74db13475"
   },
   "outputs": [
    {
     "data": {
      "text/plain": [
       "id                               0\n",
       "week                             0\n",
       "center_id                        0\n",
       "meal_id                          0\n",
       "checkout_price                   0\n",
       "base_price                       0\n",
       "emailer_for_promotion            0\n",
       "homepage_featured                0\n",
       "num_orders                       0\n",
       "city_code                        0\n",
       "region_code                      0\n",
       "center_type                      0\n",
       "op_area                          0\n",
       "category                         0\n",
       "cuisine                          0\n",
       "train_or_test                    0\n",
       "discount_on_base                 0\n",
       "neg_discount                     0\n",
       "price_last_curr_diff             0\n",
       "price_increase                   0\n",
       "num_orders_lag_10            35843\n",
       "num_orders_lag_11            39412\n",
       "num_orders_lag_12            42980\n",
       "num_orders_lag_10_ewm_0.5       10\n",
       "num_orders_lag_11_ewm_0.5       11\n",
       "num_orders_lag_12_ewm_0.5       12\n",
       "num_orders_lag_13_ewm_0.5       13\n",
       "num_orders_lag_14_ewm_0.5       14\n",
       "num_orders_lag_15_ewm_0.5       15\n",
       "dtype: int64"
      ]
     },
     "execution_count": 77,
     "metadata": {
      "tags": []
     },
     "output_type": "execute_result"
    }
   ],
   "source": [
    "trn.isnull().sum()"
   ]
  },
  {
   "cell_type": "markdown",
   "metadata": {
    "colab_type": "text",
    "id": "Iq5-zOqi7kWX"
   },
   "source": [
    "### Catboost"
   ]
  },
  {
   "cell_type": "code",
   "execution_count": 0,
   "metadata": {
    "colab": {},
    "colab_type": "code",
    "id": "5UCMCvsI7kWX"
   },
   "outputs": [],
   "source": [
    "avoid_columns1 = ['id', 'num_orders', 'train_or_test', 'checkout_price', 'base_price', 'city_code', 'region_code', 'center_type', '']"
   ]
  },
  {
   "cell_type": "code",
   "execution_count": 0,
   "metadata": {
    "colab": {},
    "colab_type": "code",
    "id": "Kcw7yUIX7kWZ"
   },
   "outputs": [],
   "source": [
    "features1 = [col for col in test.columns if col not in avoid_columns1]"
   ]
  },
  {
   "cell_type": "code",
   "execution_count": 74,
   "metadata": {
    "colab": {
     "base_uri": "https://localhost:8080/",
     "height": 374
    },
    "colab_type": "code",
    "id": "NiL0jKAjDasm",
    "outputId": "b5b73194-7848-4407-aa6d-7a881fa3b45e"
   },
   "outputs": [
    {
     "data": {
      "text/plain": [
       "['week',\n",
       " 'center_id',\n",
       " 'meal_id',\n",
       " 'emailer_for_promotion',\n",
       " 'homepage_featured',\n",
       " 'op_area',\n",
       " 'category',\n",
       " 'cuisine',\n",
       " 'discount_on_base',\n",
       " 'neg_discount',\n",
       " 'price_last_curr_diff',\n",
       " 'price_increase',\n",
       " 'num_orders_lag_10',\n",
       " 'num_orders_lag_11',\n",
       " 'num_orders_lag_12',\n",
       " 'num_orders_lag_10_ewm_0.5',\n",
       " 'num_orders_lag_11_ewm_0.5',\n",
       " 'num_orders_lag_12_ewm_0.5',\n",
       " 'num_orders_lag_13_ewm_0.5',\n",
       " 'num_orders_lag_14_ewm_0.5',\n",
       " 'num_orders_lag_15_ewm_0.5']"
      ]
     },
     "execution_count": 74,
     "metadata": {
      "tags": []
     },
     "output_type": "execute_result"
    }
   ],
   "source": [
    "features1"
   ]
  },
  {
   "cell_type": "code",
   "execution_count": 0,
   "metadata": {
    "colab": {},
    "colab_type": "code",
    "id": "U8Q9_JJq7kWc"
   },
   "outputs": [],
   "source": [
    "cat_ind1 = [1, 2, 3, 4, 6, 7, 9, 11]"
   ]
  },
  {
   "cell_type": "code",
   "execution_count": 0,
   "metadata": {
    "colab": {},
    "colab_type": "code",
    "id": "GJuUz2mm7kWg"
   },
   "outputs": [],
   "source": [
    "cat_rg1 = cb.CatBoostRegressor(iterations=625, learning_rate=0.06, depth=8, l2_leaf_reg=10, loss_function='RMSE', random_seed=2018)"
   ]
  },
  {
   "cell_type": "code",
   "execution_count": null,
   "metadata": {
    "colab": {
     "base_uri": "https://localhost:8080/",
     "height": 10659
    },
    "colab_type": "code",
    "id": "J_v4PJPl7kWh",
    "outputId": "53630069-9f48-457c-8a1a-cf971c53b07b",
    "scrolled": true
   },
   "outputs": [],
   "source": [
    "cat_rg1.fit(X=trn[features1], y=trn['num_orders'], cat_features=cat_ind1, verbose=True)"
   ]
  },
  {
   "cell_type": "markdown",
   "metadata": {},
   "source": [
    "624:\tlearn: 0.4839052\ttotal: 8m 15s\tremaining: 0us"
   ]
  },
  {
   "cell_type": "code",
   "execution_count": 0,
   "metadata": {
    "colab": {},
    "colab_type": "code",
    "id": "Rrwagd3-7kWj"
   },
   "outputs": [],
   "source": [
    "pred = cat_rg1.predict(test[features1])"
   ]
  },
  {
   "cell_type": "code",
   "execution_count": 0,
   "metadata": {
    "colab": {},
    "colab_type": "code",
    "id": "ktaMJbtjG-5U"
   },
   "outputs": [],
   "source": [
    "pred = (np.exp(pred) - 1)"
   ]
  },
  {
   "cell_type": "code",
   "execution_count": 0,
   "metadata": {
    "colab": {},
    "colab_type": "code",
    "id": "EBGphk3F7kWm"
   },
   "outputs": [],
   "source": [
    "sub_df = pd.DataFrame(columns=['id', 'num_orders'])\n",
    "sub_df['id'] = test['id']\n",
    "sub_df['num_orders'] = pred\n",
    "sub_df.to_csv(f'{SUB_PATH}/cat10.csv', index=False)"
   ]
  },
  {
   "cell_type": "code",
   "execution_count": 0,
   "metadata": {
    "colab": {},
    "colab_type": "code",
    "id": "tj3m5DODIV-K"
   },
   "outputs": [],
   "source": []
  },
  {
   "cell_type": "code",
   "execution_count": 0,
   "metadata": {
    "colab": {},
    "colab_type": "code",
    "id": "lXJnd7PmIV6D"
   },
   "outputs": [],
   "source": []
  },
  {
   "cell_type": "code",
   "execution_count": 0,
   "metadata": {
    "colab": {},
    "colab_type": "code",
    "id": "Mvf79nq97kWp"
   },
   "outputs": [],
   "source": [
    "# for catboost plots\n",
    "# jupyter nbextension enable --py widgetsnbextension\n",
    "# https://www.slideshare.net/OwenZhang2/tips-for-data-science-competitions"
   ]
  }
 ],
 "metadata": {
  "colab": {
   "collapsed_sections": [],
   "name": "Analysis.ipynb",
   "provenance": [],
   "version": "0.3.2"
  },
  "kernelspec": {
   "display_name": "Python 3",
   "language": "python",
   "name": "python3"
  },
  "language_info": {
   "codemirror_mode": {
    "name": "ipython",
    "version": 3
   },
   "file_extension": ".py",
   "mimetype": "text/x-python",
   "name": "python",
   "nbconvert_exporter": "python",
   "pygments_lexer": "ipython3",
   "version": "3.6.5"
  }
 },
 "nbformat": 4,
 "nbformat_minor": 1
}
